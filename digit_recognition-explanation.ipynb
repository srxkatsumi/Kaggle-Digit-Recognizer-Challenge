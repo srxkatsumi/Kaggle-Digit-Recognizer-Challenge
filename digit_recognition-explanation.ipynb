{
 "cells": [
  {
   "cell_type": "code",
   "execution_count": 61,
   "id": "434a16b1",
   "metadata": {},
   "outputs": [],
   "source": [
    "#!pip install tqdm"
   ]
  },
  {
   "cell_type": "markdown",
   "id": "c5a432df",
   "metadata": {},
   "source": [
    "Portugues:\n",
    "\n",
    "- numpy: Biblioteca para manipulação de arrays e operações matemáticas.\n",
    "- pandas: Biblioteca para manipulação e análise de dados em formato de tabela.\n",
    "- tqdm: Fornece uma barra de progresso visual para loops.\n",
    "- matplotlib.pyplot: Biblioteca para visualização de dados.\n",
    "- train_test_split: Função para dividir o conjunto de dados em conjuntos de treinamento e validação.\n",
    "- SVC (Support Vector Classifier): Implementação de SVM para classificação no scikit-learn.\n",
    "- accuracy_score: Métrica para avaliar a acurácia do modelo.\n",
    "- StandardScaler: Ferramenta para normalização dos dados.\n",
    "\n",
    "English:\n",
    "\n",
    "- numpy: Library for manipulating arrays and mathematical operations.\n",
    "- pandas: Library for manipulating and analysing data in table format.\n",
    "- tqdm: Provides a visual progress bar for loops.\n",
    "- matplotlib.pyplot: Library for data visualisation.\n",
    "- train_test_split: Function for splitting the data set into training and validation sets.\n",
    "- SVC (Support Vector Classifier): SVM implementation for classification in scikit-learn.\n",
    "- accuracy_score: Metric for evaluating the model's accuracy.\n",
    "- StandardScaler: Tool for normalising data."
   ]
  },
  {
   "cell_type": "code",
   "execution_count": 62,
   "id": "d85f9e9b",
   "metadata": {},
   "outputs": [],
   "source": [
    "import numpy as np\n",
    "import pandas as pd\n",
    "from tqdm import tqdm\n",
    "import matplotlib.pyplot as plt\n",
    "from sklearn.model_selection import train_test_split\n",
    "from sklearn.svm import SVC\n",
    "from sklearn.metrics import accuracy_score\n",
    "from sklearn.preprocessing import StandardScaler"
   ]
  },
  {
   "cell_type": "markdown",
   "id": "ded37107",
   "metadata": {},
   "source": [
    "1-Esta parte do código lida com a leitura dos conjuntos de treinamento e teste a partir dos arquivos CSV fornecidos.\n",
    "\n",
    "1-This part of the code deals with reading the training and test sets from the CSV files provided."
   ]
  },
  {
   "cell_type": "code",
   "execution_count": 63,
   "id": "39eb1602",
   "metadata": {},
   "outputs": [],
   "source": [
    "# 1. Leitura e Exploração dos Dados\n",
    "# 1 Reading and Exploring the Data\n",
    "\n",
    "train_data = pd.read_csv('train.csv')\n",
    "test_data = pd.read_csv('test.csv')"
   ]
  },
  {
   "cell_type": "markdown",
   "id": "1ac8c2c9",
   "metadata": {},
   "source": [
    "2-Esta parte exibe aleatoriamente uma imagem do conjunto de treinamento, visualizando o dígito manuscrito, e imprime o rótulo associado ao dígito.\n",
    "\n",
    "2-This part randomly displays an image of the training set, visualising the handwritten digit, and prints the label associated with the digit."
   ]
  },
  {
   "cell_type": "code",
   "execution_count": 64,
   "id": "1e9d7bd5",
   "metadata": {
    "scrolled": true
   },
   "outputs": [
    {
     "data": {
      "image/png": "[encoded data removed]",
      "text/plain": [
       "<Figure size 640x480 with 1 Axes>"
      ]
     },
     "metadata": {},
     "output_type": "display_data"
    },
    {
     "name": "stdout",
     "output_type": "stream",
     "text": [
      "Número exibido na imagem: 5\n"
     ]
    },
    {
     "data": {
      "image/png": "[encoded data removed]",
      "text/plain": [
       "<Figure size 640x480 with 1 Axes>"
      ]
     },
     "metadata": {},
     "output_type": "display_data"
    },
    {
     "name": "stdout",
     "output_type": "stream",
     "text": [
      "Número exibido na imagem: 1\n"
     ]
    },
    {
     "data": {
      "image/png": "[encoded data removed]",
      "text/plain": [
       "<Figure size 640x480 with 1 Axes>"
      ]
     },
     "metadata": {},
     "output_type": "display_data"
    },
    {
     "name": "stdout",
     "output_type": "stream",
     "text": [
      "Número exibido na imagem: 8\n"
     ]
    }
   ],
   "source": [
    "# 2. Visualização dos Dados\n",
    "# (Visualização de algumas imagens, verificação da distribuição dos rótulos)\n",
    "\n",
    "# 2. data visualisation\n",
    "# (Visualisation of some images, checking the distribution of labels)\n",
    "\n",
    "# Escolha aleatória de uma imagem do conjunto de treinamento\n",
    "# Random selection of an image from the training set\n",
    "for _ in range(3):\n",
    "    random_index = np.random.randint(0, len(train_data))\n",
    "    random_image = train_data.iloc[random_index, 1:].values.reshape(28, 28)\n",
    "    label = train_data.iloc[random_index, 0]\n",
    "\n",
    "# Visualização da imagem\n",
    "    # Image visualization\n",
    "    plt.imshow(random_image, cmap='gray')\n",
    "    plt.title(f'Rótulo: {label}')\n",
    "    plt.show()\n",
    "    # Impressão do número abaixo da imagem\n",
    "    # Print the number below the image\n",
    "    print(f'Número exibido na imagem: {label}')"
   ]
  },
  {
   "cell_type": "markdown",
   "id": "725c9299",
   "metadata": {},
   "source": [
    "3-\n",
    "- X contém os dados de treinamento, excluindo a coluna de rótulos.\n",
    "- y contém os rótulos correspondentes.\n",
    "- Normalização dos valores dos pixels para o intervalo [0, 1].\n",
    "\n",
    "3-\n",
    "- X contains the training data, excluding the labels column.\n",
    "- y contains the corresponding labels.\n",
    "- Normalisation of the pixel values to the interval [0, 1]."
   ]
  },
  {
   "cell_type": "code",
   "execution_count": 65,
   "id": "8113aef9",
   "metadata": {},
   "outputs": [],
   "source": [
    "# 3. Pré-Processamento dos Dados\n",
    "#3 Data pre-processing\n",
    "\n",
    "X = train_data.drop('label', axis=1)\n",
    "y = train_data['label']\n",
    "X = X / 255.0  # Normalização"
   ]
  },
  {
   "cell_type": "markdown",
   "id": "a80fd32b",
   "metadata": {},
   "source": [
    "4-Define o tamanho do pedaço (chunk_size) e inicializa o modelo SVM.\n",
    "Usa um loop para treinar o modelo em pedaços do conjunto de treinamento, atualizando a barra de progresso.\n",
    "\n",
    "4-Sets the chunk size and initialises the SVM model.\n",
    "Uses a loop to train the model on chunks from the training set, updating the progress bar."
   ]
  },
  {
   "cell_type": "code",
   "execution_count": 66,
   "id": "10b9def5",
   "metadata": {},
   "outputs": [
    {
     "name": "stderr",
     "output_type": "stream",
     "text": [
      "Treinamento do Modelo: 45000samples [00:07, 6038.69samples/s]                   \n"
     ]
    }
   ],
   "source": [
    "# 4. Treinamento do Modelo em Pedaços\n",
    "# 4 Model Training in Chunks\n",
    "\n",
    "#  tamanho do pedaço / chunk size\n",
    "chunk_size = 5000\n",
    "\n",
    "# Inicialize o modelo SVM / Initialise the SVM model\n",
    "svm_model = SVC(kernel='linear', C=10, gamma='auto')\n",
    "\n",
    "\n",
    "# tqdm para criar uma barra de progresso / tqdm to create a progress bar\n",
    "with tqdm(total=len(X), desc=\"Treinamento do Modelo\", unit=\"samples\", ncols=80) as pbar:\n",
    "    for i in range(0, len(X), chunk_size):\n",
    "        # Divida o conjunto de treinamento em pedaços de 5000 amostras\n",
    "        X_chunk = X.iloc[i:i + chunk_size]\n",
    "        y_chunk = y.iloc[i:i + chunk_size]\n",
    "\n",
    "        # Pré-processamento / Pre-processing\n",
    "        scaler = StandardScaler()\n",
    "        X_chunk_scaled = scaler.fit_transform(X_chunk)\n",
    "\n",
    "        # Treinamento do modelo no pedaço atual\n",
    "        # Model training on the current piece\n",
    "        svm_model.fit(X_chunk_scaled, y_chunk)\n",
    "\n",
    "        # Atualização da barra de progresso\n",
    "        # Progress bar update\n",
    "        pbar.update(chunk_size)"
   ]
  },
  {
   "cell_type": "markdown",
   "id": "83be3408",
   "metadata": {},
   "source": [
    "5-avalia a acurácia do modelo\n",
    "\n",
    "5-evaluates the model's accuracy"
   ]
  },
  {
   "cell_type": "code",
   "execution_count": 67,
   "id": "a7e8f0cf",
   "metadata": {},
   "outputs": [
    {
     "name": "stdout",
     "output_type": "stream",
     "text": [
      "Acurácia do modelo: 89.77%. \n",
      "Model accuracy: 89.77%\n"
     ]
    }
   ],
   "source": [
    "# 5. Avaliação do Modelo\n",
    "# 5. Model evaluation\n",
    "X_val_scaled = scaler.transform(X_val)\n",
    "y_pred = svm_model.predict(X_val_scaled)\n",
    "accuracy = accuracy_score(y_val, y_pred)\n",
    "\n",
    "# Convertendo para percentual\n",
    "accuracy_percent = accuracy * 100\n",
    "\n",
    "print(f'Acurácia do modelo: {accuracy_percent:.2f}%. \\nModel accuracy: {accuracy_percent:.2f}%')\n"
   ]
  },
  {
   "cell_type": "markdown",
   "id": "d7403ec4",
   "metadata": {},
   "source": [
    "6- Normaliza os dados de teste, faz previsões usando o modelo treinado\n",
    "\n",
    "6- Normalises test data, makes predictions using the trained model"
   ]
  },
  {
   "cell_type": "code",
   "execution_count": 68,
   "id": "5e9fcf2f",
   "metadata": {},
   "outputs": [],
   "source": [
    "# 6. Previsões no Conjunto de Teste\n",
    "# 6. Predictions in the Test Set\n",
    "X_test = test_data / 255.0  # Normalização\n",
    "X_test_scaled = scaler.transform(X_test)\n",
    "test_predictions = svm_model.predict(X_test_scaled)"
   ]
  },
  {
   "cell_type": "markdown",
   "id": "99197605",
   "metadata": {},
   "source": [
    "7-Por fim, as previsões no conjunto de teste são organizadas em um DataFrame e salvas em um arquivo CSV chamado submission.csv.\n",
    "\n",
    "7-Finally, the predictions in the test set are organised in a DataFrame and saved in a CSV file called submission.csv."
   ]
  },
  {
   "cell_type": "code",
   "execution_count": 69,
   "id": "445d7fe5",
   "metadata": {},
   "outputs": [
    {
     "name": "stdout",
     "output_type": "stream",
     "text": [
      "O arquivo CSV foi gerado com sucesso.\n",
      "The CSV file has been successfully generated.\n"
     ]
    }
   ],
   "source": [
    "# 7. Criação do Arquivo de Envio\n",
    "# 7. Creating the Send File\n",
    "submission_df = pd.DataFrame({'ImageId': range(1, len(test_predictions) + 1), 'Label': test_predictions})\n",
    "submission_df.to_csv('submission.csv', index=False)\n",
    "print('O arquivo CSV foi gerado com sucesso.\\nThe CSV file has been successfully generated.')"
   ]
  },
  {
   "cell_type": "code",
   "execution_count": null,
   "id": "70a82284",
   "metadata": {},
   "outputs": [],
   "source": []
  }
 ],
 "metadata": {
  "kernelspec": {
   "display_name": "Python 3 (ipykernel)",
   "language": "python",
   "name": "python3"
  },
  "language_info": {
   "codemirror_mode": {
    "name": "ipython",
    "version": 3
   },
   "file_extension": ".py",
   "mimetype": "text/x-python",
   "name": "python",
   "nbconvert_exporter": "python",
   "pygments_lexer": "ipython3",
   "version": "3.11.4"
  }
 },
 "nbformat": 4,
 "nbformat_minor": 5
}
